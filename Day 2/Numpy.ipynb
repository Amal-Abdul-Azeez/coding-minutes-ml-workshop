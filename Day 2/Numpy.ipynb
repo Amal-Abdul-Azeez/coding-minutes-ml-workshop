{
 "cells": [
  {
   "cell_type": "code",
   "execution_count": 1,
   "id": "e0843395",
   "metadata": {},
   "outputs": [
    {
     "name": "stdout",
     "output_type": "stream",
     "text": [
      "Requirement already satisfied: numpy in /Users/mohit/opt/anaconda3/lib/python3.8/site-packages (1.20.1)\n",
      "Note: you may need to restart the kernel to use updated packages.\n"
     ]
    }
   ],
   "source": [
    "pip install numpy"
   ]
  },
  {
   "cell_type": "code",
   "execution_count": 3,
   "id": "2f5413c3",
   "metadata": {},
   "outputs": [],
   "source": [
    "import numpy as np"
   ]
  },
  {
   "cell_type": "code",
   "execution_count": 7,
   "id": "d02a81ef",
   "metadata": {},
   "outputs": [],
   "source": [
    "a = [45, 2, 5, 10, 9, 1, 11]"
   ]
  },
  {
   "cell_type": "code",
   "execution_count": 8,
   "id": "837d186b",
   "metadata": {},
   "outputs": [
    {
     "data": {
      "text/plain": [
       "list"
      ]
     },
     "execution_count": 8,
     "metadata": {},
     "output_type": "execute_result"
    }
   ],
   "source": [
    "type(a)"
   ]
  },
  {
   "cell_type": "code",
   "execution_count": 10,
   "id": "e9d9bd82",
   "metadata": {},
   "outputs": [],
   "source": [
    "arr = np.array(a)"
   ]
  },
  {
   "cell_type": "code",
   "execution_count": 11,
   "id": "2abb0000",
   "metadata": {},
   "outputs": [
    {
     "data": {
      "text/plain": [
       "array([45,  2,  5, 10,  9,  1, 11])"
      ]
     },
     "execution_count": 11,
     "metadata": {},
     "output_type": "execute_result"
    }
   ],
   "source": [
    "arr"
   ]
  },
  {
   "cell_type": "code",
   "execution_count": 12,
   "id": "ca56be0e",
   "metadata": {},
   "outputs": [
    {
     "data": {
      "text/plain": [
       "numpy.ndarray"
      ]
     },
     "execution_count": 12,
     "metadata": {},
     "output_type": "execute_result"
    }
   ],
   "source": [
    "type(arr)"
   ]
  },
  {
   "cell_type": "code",
   "execution_count": 13,
   "id": "fb15567f",
   "metadata": {},
   "outputs": [
    {
     "data": {
      "text/plain": [
       "(7,)"
      ]
     },
     "execution_count": 13,
     "metadata": {},
     "output_type": "execute_result"
    }
   ],
   "source": [
    "arr.shape"
   ]
  },
  {
   "cell_type": "code",
   "execution_count": 14,
   "id": "4b74704d",
   "metadata": {},
   "outputs": [
    {
     "ename": "TypeError",
     "evalue": "can only concatenate list (not \"int\") to list",
     "output_type": "error",
     "traceback": [
      "\u001b[0;31m---------------------------------------------------------------------------\u001b[0m",
      "\u001b[0;31mTypeError\u001b[0m                                 Traceback (most recent call last)",
      "\u001b[0;32m<ipython-input-14-ca42ed42e993>\u001b[0m in \u001b[0;36m<module>\u001b[0;34m\u001b[0m\n\u001b[0;32m----> 1\u001b[0;31m \u001b[0ma\u001b[0m \u001b[0;34m+\u001b[0m \u001b[0;36m1\u001b[0m\u001b[0;34m\u001b[0m\u001b[0;34m\u001b[0m\u001b[0m\n\u001b[0m",
      "\u001b[0;31mTypeError\u001b[0m: can only concatenate list (not \"int\") to list"
     ]
    }
   ],
   "source": [
    "a + 1"
   ]
  },
  {
   "cell_type": "code",
   "execution_count": 15,
   "id": "e4102c27",
   "metadata": {},
   "outputs": [
    {
     "data": {
      "text/plain": [
       "array([46,  3,  6, 11, 10,  2, 12])"
      ]
     },
     "execution_count": 15,
     "metadata": {},
     "output_type": "execute_result"
    }
   ],
   "source": [
    "arr + 1"
   ]
  },
  {
   "cell_type": "code",
   "execution_count": 16,
   "id": "4021763e",
   "metadata": {},
   "outputs": [
    {
     "data": {
      "text/plain": [
       "array([90,  4, 10, 20, 18,  2, 22])"
      ]
     },
     "execution_count": 16,
     "metadata": {},
     "output_type": "execute_result"
    }
   ],
   "source": [
    "arr*2"
   ]
  },
  {
   "cell_type": "code",
   "execution_count": 17,
   "id": "90d70f38",
   "metadata": {},
   "outputs": [],
   "source": [
    "arr2 = np.array([1,2,3,4,5,6,7])"
   ]
  },
  {
   "cell_type": "code",
   "execution_count": 18,
   "id": "c7e06923",
   "metadata": {},
   "outputs": [
    {
     "data": {
      "text/plain": [
       "array([1, 2, 3, 4, 5, 6, 7])"
      ]
     },
     "execution_count": 18,
     "metadata": {},
     "output_type": "execute_result"
    }
   ],
   "source": [
    "arr2"
   ]
  },
  {
   "cell_type": "code",
   "execution_count": 20,
   "id": "b7f20e66",
   "metadata": {},
   "outputs": [],
   "source": [
    "arr_add = arr + arr2"
   ]
  },
  {
   "cell_type": "code",
   "execution_count": 21,
   "id": "87868032",
   "metadata": {},
   "outputs": [
    {
     "data": {
      "text/plain": [
       "array([46,  4,  8, 14, 14,  7, 18])"
      ]
     },
     "execution_count": 21,
     "metadata": {},
     "output_type": "execute_result"
    }
   ],
   "source": [
    "arr_add"
   ]
  },
  {
   "cell_type": "code",
   "execution_count": 25,
   "id": "1a1335df",
   "metadata": {},
   "outputs": [
    {
     "data": {
      "text/plain": [
       "array([45.        ,  1.        ,  1.66666667,  2.5       ,  1.8       ,\n",
       "        0.16666667,  1.57142857])"
      ]
     },
     "execution_count": 25,
     "metadata": {},
     "output_type": "execute_result"
    }
   ],
   "source": [
    "arr / arr2"
   ]
  },
  {
   "cell_type": "code",
   "execution_count": null,
   "id": "6aa36e5c",
   "metadata": {},
   "outputs": [],
   "source": []
  },
  {
   "cell_type": "code",
   "execution_count": 26,
   "id": "5e6edafe",
   "metadata": {},
   "outputs": [],
   "source": [
    "arr_2d = np.array([[1,2,3], \n",
    "                   [4,5,6]])"
   ]
  },
  {
   "cell_type": "code",
   "execution_count": 27,
   "id": "dd2feede",
   "metadata": {},
   "outputs": [
    {
     "data": {
      "text/plain": [
       "array([[1, 2, 3],\n",
       "       [4, 5, 6]])"
      ]
     },
     "execution_count": 27,
     "metadata": {},
     "output_type": "execute_result"
    }
   ],
   "source": [
    "arr_2d"
   ]
  },
  {
   "cell_type": "code",
   "execution_count": 31,
   "id": "5475195a",
   "metadata": {},
   "outputs": [
    {
     "data": {
      "text/plain": [
       "(2, 3)"
      ]
     },
     "execution_count": 31,
     "metadata": {},
     "output_type": "execute_result"
    }
   ],
   "source": [
    "arr_2d.shape"
   ]
  },
  {
   "cell_type": "code",
   "execution_count": 56,
   "id": "d946e275",
   "metadata": {},
   "outputs": [],
   "source": [
    "r1 = np.random.randint(1, 10, size = (5,5) )\n",
    "r2 = np.random.randint(1, 10, size = (5,4) )"
   ]
  },
  {
   "cell_type": "code",
   "execution_count": 57,
   "id": "7a1afa03",
   "metadata": {},
   "outputs": [
    {
     "data": {
      "text/plain": [
       "array([[1, 6, 1, 4, 9],\n",
       "       [7, 4, 7, 4, 7],\n",
       "       [3, 7, 8, 8, 9],\n",
       "       [9, 4, 4, 7, 8],\n",
       "       [9, 7, 4, 7, 8]])"
      ]
     },
     "execution_count": 57,
     "metadata": {},
     "output_type": "execute_result"
    }
   ],
   "source": [
    "r1"
   ]
  },
  {
   "cell_type": "code",
   "execution_count": 58,
   "id": "544b6f01",
   "metadata": {},
   "outputs": [
    {
     "data": {
      "text/plain": [
       "array([[3, 9, 4, 4],\n",
       "       [8, 4, 8, 5],\n",
       "       [5, 5, 7, 7],\n",
       "       [9, 9, 7, 9],\n",
       "       [4, 7, 8, 8]])"
      ]
     },
     "execution_count": 58,
     "metadata": {},
     "output_type": "execute_result"
    }
   ],
   "source": [
    "r2"
   ]
  },
  {
   "cell_type": "code",
   "execution_count": 61,
   "id": "71868c14",
   "metadata": {},
   "outputs": [
    {
     "data": {
      "text/plain": [
       "(5, 5)"
      ]
     },
     "execution_count": 61,
     "metadata": {},
     "output_type": "execute_result"
    }
   ],
   "source": [
    "r1.shape"
   ]
  },
  {
   "cell_type": "code",
   "execution_count": 60,
   "id": "0454e853",
   "metadata": {},
   "outputs": [
    {
     "data": {
      "text/plain": [
       "(5, 4)"
      ]
     },
     "execution_count": 60,
     "metadata": {},
     "output_type": "execute_result"
    }
   ],
   "source": [
    "r2.shape"
   ]
  },
  {
   "cell_type": "code",
   "execution_count": 65,
   "id": "797fb2fb",
   "metadata": {},
   "outputs": [],
   "source": [
    "# matrix multiplication\n",
    "ans = np.dot(r1, r2)"
   ]
  },
  {
   "cell_type": "code",
   "execution_count": 66,
   "id": "94be1c91",
   "metadata": {},
   "outputs": [
    {
     "data": {
      "text/plain": [
       "array([[128, 137, 159, 149],\n",
       "       [152, 199, 193, 189],\n",
       "       [213, 230, 252, 247],\n",
       "       [174, 236, 209, 211],\n",
       "       [198, 248, 233, 226]])"
      ]
     },
     "execution_count": 66,
     "metadata": {},
     "output_type": "execute_result"
    }
   ],
   "source": [
    "ans"
   ]
  },
  {
   "cell_type": "code",
   "execution_count": 67,
   "id": "a82c9700",
   "metadata": {},
   "outputs": [
    {
     "data": {
      "text/plain": [
       "array([[3, 9, 4, 4],\n",
       "       [8, 4, 8, 5],\n",
       "       [5, 5, 7, 7],\n",
       "       [9, 9, 7, 9],\n",
       "       [4, 7, 8, 8]])"
      ]
     },
     "execution_count": 67,
     "metadata": {},
     "output_type": "execute_result"
    }
   ],
   "source": [
    "r2"
   ]
  },
  {
   "cell_type": "code",
   "execution_count": 69,
   "id": "3152fe23",
   "metadata": {},
   "outputs": [],
   "source": [
    "r2_t = np.transpose(r2)"
   ]
  },
  {
   "cell_type": "code",
   "execution_count": 70,
   "id": "e23bf693",
   "metadata": {},
   "outputs": [
    {
     "data": {
      "text/plain": [
       "array([[3, 8, 5, 9, 4],\n",
       "       [9, 4, 5, 9, 7],\n",
       "       [4, 8, 7, 7, 8],\n",
       "       [4, 5, 7, 9, 8]])"
      ]
     },
     "execution_count": 70,
     "metadata": {},
     "output_type": "execute_result"
    }
   ],
   "source": [
    "r2_t"
   ]
  },
  {
   "cell_type": "code",
   "execution_count": null,
   "id": "1b3df1c4",
   "metadata": {},
   "outputs": [],
   "source": []
  },
  {
   "cell_type": "markdown",
   "id": "df096099",
   "metadata": {},
   "source": [
    "# Slicing"
   ]
  },
  {
   "cell_type": "code",
   "execution_count": 71,
   "id": "313ea49b",
   "metadata": {},
   "outputs": [
    {
     "data": {
      "text/plain": [
       "array([45,  2,  5, 10,  9,  1, 11])"
      ]
     },
     "execution_count": 71,
     "metadata": {},
     "output_type": "execute_result"
    }
   ],
   "source": [
    "arr"
   ]
  },
  {
   "cell_type": "code",
   "execution_count": 72,
   "id": "9413668f",
   "metadata": {},
   "outputs": [
    {
     "data": {
      "text/plain": [
       "45"
      ]
     },
     "execution_count": 72,
     "metadata": {},
     "output_type": "execute_result"
    }
   ],
   "source": [
    "arr[0]"
   ]
  },
  {
   "cell_type": "code",
   "execution_count": 74,
   "id": "240aa45c",
   "metadata": {},
   "outputs": [
    {
     "data": {
      "text/plain": [
       "array([ 2,  5, 10])"
      ]
     },
     "execution_count": 74,
     "metadata": {},
     "output_type": "execute_result"
    }
   ],
   "source": [
    "arr[ 1 : 4 ]"
   ]
  },
  {
   "cell_type": "code",
   "execution_count": 75,
   "id": "34bb16f7",
   "metadata": {},
   "outputs": [
    {
     "data": {
      "text/plain": [
       "array([45,  2,  5, 10,  9,  1, 11])"
      ]
     },
     "execution_count": 75,
     "metadata": {},
     "output_type": "execute_result"
    }
   ],
   "source": [
    "arr[ : ]"
   ]
  },
  {
   "cell_type": "code",
   "execution_count": 77,
   "id": "3ab2f172",
   "metadata": {},
   "outputs": [
    {
     "data": {
      "text/plain": [
       "array([[1, 6, 1, 4, 9],\n",
       "       [7, 4, 7, 4, 7],\n",
       "       [3, 7, 8, 8, 9],\n",
       "       [9, 4, 4, 7, 8],\n",
       "       [9, 7, 4, 7, 8]])"
      ]
     },
     "execution_count": 77,
     "metadata": {},
     "output_type": "execute_result"
    }
   ],
   "source": [
    "r1"
   ]
  },
  {
   "cell_type": "code",
   "execution_count": 78,
   "id": "8da6f9eb",
   "metadata": {},
   "outputs": [
    {
     "data": {
      "text/plain": [
       "array([[7, 4, 7, 4, 7],\n",
       "       [3, 7, 8, 8, 9]])"
      ]
     },
     "execution_count": 78,
     "metadata": {},
     "output_type": "execute_result"
    }
   ],
   "source": [
    "r1[ 1 : 3]"
   ]
  },
  {
   "cell_type": "code",
   "execution_count": 83,
   "id": "26626df5",
   "metadata": {},
   "outputs": [
    {
     "data": {
      "text/plain": [
       "array([[7, 8, 8],\n",
       "       [4, 4, 7]])"
      ]
     },
     "execution_count": 83,
     "metadata": {},
     "output_type": "execute_result"
    }
   ],
   "source": [
    "# slicing in 2d\n",
    "r1[ 2:4 , 1: 4]"
   ]
  },
  {
   "cell_type": "code",
   "execution_count": 85,
   "id": "24c3e949",
   "metadata": {},
   "outputs": [
    {
     "data": {
      "text/plain": [
       "array([[7, 4],\n",
       "       [8, 8],\n",
       "       [4, 7],\n",
       "       [4, 7]])"
      ]
     },
     "execution_count": 85,
     "metadata": {},
     "output_type": "execute_result"
    }
   ],
   "source": [
    "r1[1:5, 2:4]"
   ]
  },
  {
   "cell_type": "code",
   "execution_count": 86,
   "id": "14124e49",
   "metadata": {},
   "outputs": [],
   "source": [
    "data = \"We are learning Python.\""
   ]
  },
  {
   "cell_type": "code",
   "execution_count": 89,
   "id": "3e80716b",
   "metadata": {},
   "outputs": [
    {
     "data": {
      "text/plain": [
       "'are learning'"
      ]
     },
     "execution_count": 89,
     "metadata": {},
     "output_type": "execute_result"
    }
   ],
   "source": [
    "data[3:15]"
   ]
  },
  {
   "cell_type": "code",
   "execution_count": null,
   "id": "433a706f",
   "metadata": {},
   "outputs": [],
   "source": []
  },
  {
   "cell_type": "markdown",
   "id": "d6e6d061",
   "metadata": {},
   "source": [
    "# Misc."
   ]
  },
  {
   "cell_type": "code",
   "execution_count": 91,
   "id": "e2206cb0",
   "metadata": {},
   "outputs": [
    {
     "data": {
      "text/plain": [
       "array([6.70820393, 1.41421356, 2.23606798, 3.16227766, 3.        ,\n",
       "       1.        , 3.31662479])"
      ]
     },
     "execution_count": 91,
     "metadata": {},
     "output_type": "execute_result"
    }
   ],
   "source": [
    "np.sqrt(arr)"
   ]
  },
  {
   "cell_type": "code",
   "execution_count": 94,
   "id": "c90d072b",
   "metadata": {},
   "outputs": [
    {
     "data": {
      "text/plain": [
       "array([6.7, 1.4, 2.2, 3.2, 3. , 1. , 3.3])"
      ]
     },
     "execution_count": 94,
     "metadata": {},
     "output_type": "execute_result"
    }
   ],
   "source": [
    "np.round(np.sqrt(arr), decimals=1)"
   ]
  },
  {
   "cell_type": "code",
   "execution_count": 95,
   "id": "6331f4e0",
   "metadata": {},
   "outputs": [
    {
     "data": {
      "text/plain": [
       "0.0"
      ]
     },
     "execution_count": 95,
     "metadata": {},
     "output_type": "execute_result"
    }
   ],
   "source": [
    "np.log(1)"
   ]
  },
  {
   "cell_type": "code",
   "execution_count": 96,
   "id": "cbb5857f",
   "metadata": {},
   "outputs": [
    {
     "data": {
      "text/plain": [
       "0.0"
      ]
     },
     "execution_count": 96,
     "metadata": {},
     "output_type": "execute_result"
    }
   ],
   "source": [
    "np.sin(0)"
   ]
  },
  {
   "cell_type": "code",
   "execution_count": 98,
   "id": "3cccd3b9",
   "metadata": {},
   "outputs": [
    {
     "data": {
      "text/plain": [
       "array([0, 1, 2, 3, 4, 5, 6, 7, 8, 9])"
      ]
     },
     "execution_count": 98,
     "metadata": {},
     "output_type": "execute_result"
    }
   ],
   "source": [
    "np.arange(10)"
   ]
  },
  {
   "cell_type": "markdown",
   "id": "87cf46fa",
   "metadata": {},
   "source": [
    "Cheatsheet : https://s3.amazonaws.com/assets.datacamp.com/blog_assets/Numpy_Python_Cheat_Sheet.pdf"
   ]
  },
  {
   "cell_type": "code",
   "execution_count": null,
   "id": "8bf11f92",
   "metadata": {},
   "outputs": [],
   "source": []
  },
  {
   "cell_type": "code",
   "execution_count": null,
   "id": "4ce088dd",
   "metadata": {},
   "outputs": [],
   "source": []
  },
  {
   "cell_type": "code",
   "execution_count": null,
   "id": "c43ef806",
   "metadata": {},
   "outputs": [],
   "source": []
  }
 ],
 "metadata": {
  "kernelspec": {
   "display_name": "Python 3",
   "language": "python",
   "name": "python3"
  },
  "language_info": {
   "codemirror_mode": {
    "name": "ipython",
    "version": 3
   },
   "file_extension": ".py",
   "mimetype": "text/x-python",
   "name": "python",
   "nbconvert_exporter": "python",
   "pygments_lexer": "ipython3",
   "version": "3.8.8"
  }
 },
 "nbformat": 4,
 "nbformat_minor": 5
}
