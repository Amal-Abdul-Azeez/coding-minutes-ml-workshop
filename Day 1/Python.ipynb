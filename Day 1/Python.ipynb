{
 "cells": [
  {
   "cell_type": "code",
   "execution_count": 6,
   "id": "9c68611f",
   "metadata": {},
   "outputs": [
    {
     "name": "stdout",
     "output_type": "stream",
     "text": [
      "Hello students\n"
     ]
    }
   ],
   "source": [
    "# shift + enter\n",
    "print(\"Hello students\")"
   ]
  },
  {
   "cell_type": "code",
   "execution_count": 7,
   "id": "b56a447e",
   "metadata": {},
   "outputs": [],
   "source": [
    "n =  8"
   ]
  },
  {
   "cell_type": "code",
   "execution_count": 8,
   "id": "6339618b",
   "metadata": {
    "scrolled": true
   },
   "outputs": [
    {
     "name": "stdout",
     "output_type": "stream",
     "text": [
      "8\n"
     ]
    }
   ],
   "source": [
    "print(n)"
   ]
  },
  {
   "cell_type": "code",
   "execution_count": 9,
   "id": "c3b46ae4",
   "metadata": {},
   "outputs": [
    {
     "data": {
      "text/plain": [
       "int"
      ]
     },
     "execution_count": 9,
     "metadata": {},
     "output_type": "execute_result"
    }
   ],
   "source": [
    "type(n)"
   ]
  },
  {
   "cell_type": "code",
   "execution_count": 10,
   "id": "07f67cac",
   "metadata": {},
   "outputs": [],
   "source": [
    "n = \"Python\""
   ]
  },
  {
   "cell_type": "code",
   "execution_count": 11,
   "id": "88b88b85",
   "metadata": {},
   "outputs": [
    {
     "name": "stdout",
     "output_type": "stream",
     "text": [
      "Python\n"
     ]
    }
   ],
   "source": [
    "print(n)"
   ]
  },
  {
   "cell_type": "code",
   "execution_count": 12,
   "id": "0544b709",
   "metadata": {},
   "outputs": [
    {
     "data": {
      "text/plain": [
       "str"
      ]
     },
     "execution_count": 12,
     "metadata": {},
     "output_type": "execute_result"
    }
   ],
   "source": [
    "type(n)"
   ]
  },
  {
   "cell_type": "markdown",
   "id": "c018425d",
   "metadata": {},
   "source": [
    "<h1> Control Flow </h1>"
   ]
  },
  {
   "cell_type": "code",
   "execution_count": 18,
   "id": "f604218d",
   "metadata": {},
   "outputs": [
    {
     "name": "stdout",
     "output_type": "stream",
     "text": [
      "You can vote.\n"
     ]
    }
   ],
   "source": [
    "# \"elif\"\n",
    "\n",
    "age = 21\n",
    "\n",
    "if age>=18:\n",
    "    print(\"You can vote.\")\n",
    "else:\n",
    "    print(\"Go home kid.\")\n",
    "    print(\"This is inside else\")"
   ]
  },
  {
   "cell_type": "code",
   "execution_count": null,
   "id": "48037977",
   "metadata": {},
   "outputs": [],
   "source": []
  },
  {
   "cell_type": "code",
   "execution_count": 23,
   "id": "9275b467",
   "metadata": {},
   "outputs": [
    {
     "name": "stdout",
     "output_type": "stream",
     "text": [
      "0, 1, 2, 3, 4, 5, 6, 7, 8, 9, 10, "
     ]
    }
   ],
   "source": [
    "i=0\n",
    "\n",
    "while (i<=10):\n",
    "    print(i, end=\", \")\n",
    "    i = i+1"
   ]
  },
  {
   "cell_type": "code",
   "execution_count": 28,
   "id": "2f6d62f6",
   "metadata": {},
   "outputs": [
    {
     "name": "stdout",
     "output_type": "stream",
     "text": [
      "1, 3, 5, 7, 9, 11, 13, "
     ]
    }
   ],
   "source": [
    "# for in loop\n",
    "\n",
    "for ele in range(1, 15):\n",
    "    if ele%2==1:\n",
    "        print(ele, end=\", \")"
   ]
  },
  {
   "cell_type": "code",
   "execution_count": 29,
   "id": "240b8d88",
   "metadata": {},
   "outputs": [
    {
     "name": "stdout",
     "output_type": "stream",
     "text": [
      "1, 3, 5, 7, 9, 11, 13, "
     ]
    }
   ],
   "source": [
    "for ele in range(1, 15, 2):\n",
    "    print(ele, end=\", \")"
   ]
  },
  {
   "cell_type": "code",
   "execution_count": null,
   "id": "75611edf",
   "metadata": {},
   "outputs": [],
   "source": []
  },
  {
   "cell_type": "markdown",
   "id": "8b91fcad",
   "metadata": {},
   "source": [
    "# Functions"
   ]
  },
  {
   "cell_type": "code",
   "execution_count": 30,
   "id": "e1e926b4",
   "metadata": {},
   "outputs": [],
   "source": [
    "def isEven(number):\n",
    "    if number%2==0:\n",
    "        return True\n",
    "    else:\n",
    "        return False"
   ]
  },
  {
   "cell_type": "code",
   "execution_count": 33,
   "id": "83c117a9",
   "metadata": {},
   "outputs": [
    {
     "data": {
      "text/plain": [
       "True"
      ]
     },
     "execution_count": 33,
     "metadata": {},
     "output_type": "execute_result"
    }
   ],
   "source": [
    "isEven(12)"
   ]
  },
  {
   "cell_type": "code",
   "execution_count": 34,
   "id": "25ef6990",
   "metadata": {},
   "outputs": [],
   "source": [
    "n = 5\n",
    "\n",
    "# *\n",
    "# **\n",
    "# ***\n",
    "# ****\n",
    "# *****\n",
    "\n",
    "\n",
    "def pattern(n):\n",
    "    for row in range(1, n+1):\n",
    "        print(\"*\"*(row))"
   ]
  },
  {
   "cell_type": "code",
   "execution_count": 36,
   "id": "194ce21f",
   "metadata": {},
   "outputs": [
    {
     "name": "stdout",
     "output_type": "stream",
     "text": [
      "*\n",
      "**\n",
      "***\n",
      "****\n",
      "*****\n",
      "******\n",
      "*******\n",
      "********\n",
      "*********\n",
      "**********\n"
     ]
    }
   ],
   "source": [
    "pattern(10)"
   ]
  },
  {
   "cell_type": "code",
   "execution_count": 37,
   "id": "1acf7ca0",
   "metadata": {},
   "outputs": [
    {
     "data": {
      "text/plain": [
       "'hellohellohellohello'"
      ]
     },
     "execution_count": 37,
     "metadata": {},
     "output_type": "execute_result"
    }
   ],
   "source": [
    "# trick \n",
    "\"hello\"*4"
   ]
  },
  {
   "cell_type": "code",
   "execution_count": null,
   "id": "938f0a6d",
   "metadata": {},
   "outputs": [],
   "source": []
  },
  {
   "cell_type": "markdown",
   "id": "fb33eeae",
   "metadata": {},
   "source": [
    "# Data Structures\n",
    "- lists\n",
    "- tuples\n",
    "- sets\n",
    "- dictionary"
   ]
  },
  {
   "cell_type": "code",
   "execution_count": 38,
   "id": "c9a36769",
   "metadata": {},
   "outputs": [],
   "source": [
    "# creating a list\n",
    "\n",
    "marks = [91, 84, 66, 55, 100, 80]"
   ]
  },
  {
   "cell_type": "code",
   "execution_count": 39,
   "id": "ffaba083",
   "metadata": {},
   "outputs": [
    {
     "name": "stdout",
     "output_type": "stream",
     "text": [
      "[91, 84, 66, 55, 100, 80]\n"
     ]
    }
   ],
   "source": [
    "print(marks)"
   ]
  },
  {
   "cell_type": "code",
   "execution_count": 40,
   "id": "3b020ad5",
   "metadata": {},
   "outputs": [
    {
     "data": {
      "text/plain": [
       "list"
      ]
     },
     "execution_count": 40,
     "metadata": {},
     "output_type": "execute_result"
    }
   ],
   "source": [
    "type(marks)"
   ]
  },
  {
   "cell_type": "code",
   "execution_count": 43,
   "id": "567914f1",
   "metadata": {},
   "outputs": [
    {
     "name": "stdout",
     "output_type": "stream",
     "text": [
      "91\n",
      "80\n",
      "80\n"
     ]
    }
   ],
   "source": [
    "print( marks[0] )\n",
    "print( marks[5] )\n",
    "print( marks[-1] ) # negative indexing"
   ]
  },
  {
   "cell_type": "code",
   "execution_count": 44,
   "id": "1d5ce2c7",
   "metadata": {},
   "outputs": [
    {
     "data": {
      "text/plain": [
       "6"
      ]
     },
     "execution_count": 44,
     "metadata": {},
     "output_type": "execute_result"
    }
   ],
   "source": [
    "len(marks)"
   ]
  },
  {
   "cell_type": "code",
   "execution_count": 45,
   "id": "b5486c9b",
   "metadata": {},
   "outputs": [],
   "source": [
    "marks.append(33)"
   ]
  },
  {
   "cell_type": "code",
   "execution_count": 46,
   "id": "ade0c216",
   "metadata": {},
   "outputs": [
    {
     "name": "stdout",
     "output_type": "stream",
     "text": [
      "[91, 84, 66, 55, 100, 80, 33]\n"
     ]
    }
   ],
   "source": [
    "print(marks)"
   ]
  },
  {
   "cell_type": "code",
   "execution_count": 48,
   "id": "16930449",
   "metadata": {},
   "outputs": [],
   "source": [
    "marks.insert(1, 95)"
   ]
  },
  {
   "cell_type": "code",
   "execution_count": 49,
   "id": "0b29e80b",
   "metadata": {},
   "outputs": [
    {
     "name": "stdout",
     "output_type": "stream",
     "text": [
      "[91, 95, 84, 66, 55, 100, 80, 33]\n"
     ]
    }
   ],
   "source": [
    "print(marks)"
   ]
  },
  {
   "cell_type": "code",
   "execution_count": 50,
   "id": "20fa9b2f",
   "metadata": {},
   "outputs": [],
   "source": [
    "marks.sort()"
   ]
  },
  {
   "cell_type": "code",
   "execution_count": 51,
   "id": "8aa3ed37",
   "metadata": {},
   "outputs": [
    {
     "name": "stdout",
     "output_type": "stream",
     "text": [
      "[33, 55, 66, 80, 84, 91, 95, 100]\n"
     ]
    }
   ],
   "source": [
    "print(marks)"
   ]
  },
  {
   "cell_type": "code",
   "execution_count": 52,
   "id": "e874d035",
   "metadata": {},
   "outputs": [],
   "source": [
    "marks.sort?"
   ]
  },
  {
   "cell_type": "code",
   "execution_count": null,
   "id": "73749662",
   "metadata": {},
   "outputs": [],
   "source": []
  },
  {
   "cell_type": "code",
   "execution_count": 53,
   "id": "de6b2697",
   "metadata": {},
   "outputs": [
    {
     "name": "stdout",
     "output_type": "stream",
     "text": [
      "[33, 55, 66, 80, 84, 91, 95, 100]\n"
     ]
    }
   ],
   "source": [
    "print(marks)"
   ]
  },
  {
   "cell_type": "code",
   "execution_count": 54,
   "id": "24098c47",
   "metadata": {},
   "outputs": [],
   "source": [
    "marks[0] = 99"
   ]
  },
  {
   "cell_type": "code",
   "execution_count": 55,
   "id": "339cfa90",
   "metadata": {},
   "outputs": [
    {
     "name": "stdout",
     "output_type": "stream",
     "text": [
      "[99, 55, 66, 80, 84, 91, 95, 100]\n"
     ]
    }
   ],
   "source": [
    "print(marks)"
   ]
  },
  {
   "cell_type": "code",
   "execution_count": 56,
   "id": "2d6ee7ae",
   "metadata": {},
   "outputs": [],
   "source": [
    "student_data = [1, \"Aman\", 2, \"Anjali\", 3, \"Mohit\", True]"
   ]
  },
  {
   "cell_type": "code",
   "execution_count": 57,
   "id": "d77a4526",
   "metadata": {},
   "outputs": [
    {
     "data": {
      "text/plain": [
       "list"
      ]
     },
     "execution_count": 57,
     "metadata": {},
     "output_type": "execute_result"
    }
   ],
   "source": [
    "type(student_data)"
   ]
  },
  {
   "cell_type": "code",
   "execution_count": 62,
   "id": "2b7e1bff",
   "metadata": {},
   "outputs": [],
   "source": [
    "multi_list = [ [1,2,3] , [4,5,6], [7,8,9] ]"
   ]
  },
  {
   "cell_type": "code",
   "execution_count": 63,
   "id": "46561fab",
   "metadata": {},
   "outputs": [
    {
     "data": {
      "text/plain": [
       "list"
      ]
     },
     "execution_count": 63,
     "metadata": {},
     "output_type": "execute_result"
    }
   ],
   "source": [
    "type(multi_list)"
   ]
  },
  {
   "cell_type": "code",
   "execution_count": 64,
   "id": "c4ec7a0b",
   "metadata": {},
   "outputs": [
    {
     "data": {
      "text/plain": [
       "3"
      ]
     },
     "execution_count": 64,
     "metadata": {},
     "output_type": "execute_result"
    }
   ],
   "source": [
    "len(multi_list)"
   ]
  },
  {
   "cell_type": "code",
   "execution_count": 65,
   "id": "9fee1271",
   "metadata": {},
   "outputs": [
    {
     "name": "stdout",
     "output_type": "stream",
     "text": [
      "[[1, 2, 3], [4, 5, 6], [7, 8, 9]]\n"
     ]
    }
   ],
   "source": [
    "print(multi_list)"
   ]
  },
  {
   "cell_type": "code",
   "execution_count": 69,
   "id": "2b8c4274",
   "metadata": {},
   "outputs": [
    {
     "data": {
      "text/plain": [
       "6"
      ]
     },
     "execution_count": 69,
     "metadata": {},
     "output_type": "execute_result"
    }
   ],
   "source": [
    "multi_list[1][2]"
   ]
  },
  {
   "cell_type": "code",
   "execution_count": 70,
   "id": "7efb20e4",
   "metadata": {},
   "outputs": [
    {
     "name": "stdout",
     "output_type": "stream",
     "text": [
      "1\n",
      "Aman\n",
      "2\n",
      "Anjali\n",
      "3\n",
      "Mohit\n",
      "True\n"
     ]
    }
   ],
   "source": [
    "for ele in student_data:\n",
    "    print(ele)"
   ]
  },
  {
   "cell_type": "code",
   "execution_count": 72,
   "id": "a601154a",
   "metadata": {},
   "outputs": [
    {
     "name": "stdout",
     "output_type": "stream",
     "text": [
      "1\n",
      "Aman\n",
      "2\n",
      "Anjali\n",
      "3\n"
     ]
    }
   ],
   "source": [
    "for i in range(5):\n",
    "    print(student_data[i])"
   ]
  },
  {
   "cell_type": "code",
   "execution_count": null,
   "id": "e06476a1",
   "metadata": {},
   "outputs": [],
   "source": []
  },
  {
   "cell_type": "markdown",
   "id": "5e3aae43",
   "metadata": {},
   "source": [
    "# Tuples"
   ]
  },
  {
   "cell_type": "code",
   "execution_count": 73,
   "id": "550cb5a4",
   "metadata": {},
   "outputs": [],
   "source": [
    "heights = (158, 175, 180, 177, 164)"
   ]
  },
  {
   "cell_type": "code",
   "execution_count": 74,
   "id": "3396956f",
   "metadata": {},
   "outputs": [
    {
     "data": {
      "text/plain": [
       "tuple"
      ]
     },
     "execution_count": 74,
     "metadata": {},
     "output_type": "execute_result"
    }
   ],
   "source": [
    "type(heights)"
   ]
  },
  {
   "cell_type": "code",
   "execution_count": 75,
   "id": "68f28661",
   "metadata": {},
   "outputs": [
    {
     "name": "stdout",
     "output_type": "stream",
     "text": [
      "(158, 175, 180, 177, 164)\n"
     ]
    }
   ],
   "source": [
    "print(heights)"
   ]
  },
  {
   "cell_type": "code",
   "execution_count": 77,
   "id": "63e43347",
   "metadata": {},
   "outputs": [
    {
     "name": "stdout",
     "output_type": "stream",
     "text": [
      "158\n",
      "164\n"
     ]
    }
   ],
   "source": [
    "print(heights[0])\n",
    "print(heights[-1])"
   ]
  },
  {
   "cell_type": "code",
   "execution_count": 79,
   "id": "b30b9409",
   "metadata": {},
   "outputs": [
    {
     "ename": "TypeError",
     "evalue": "'tuple' object does not support item assignment",
     "output_type": "error",
     "traceback": [
      "\u001b[0;31m---------------------------------------------------------------------------\u001b[0m",
      "\u001b[0;31mTypeError\u001b[0m                                 Traceback (most recent call last)",
      "\u001b[0;32m<ipython-input-79-7940307c7e9d>\u001b[0m in \u001b[0;36m<module>\u001b[0;34m\u001b[0m\n\u001b[1;32m      1\u001b[0m \u001b[0;31m# changing the element\u001b[0m\u001b[0;34m\u001b[0m\u001b[0;34m\u001b[0m\u001b[0;34m\u001b[0m\u001b[0m\n\u001b[0;32m----> 2\u001b[0;31m \u001b[0mheights\u001b[0m\u001b[0;34m[\u001b[0m\u001b[0;36m0\u001b[0m\u001b[0;34m]\u001b[0m \u001b[0;34m=\u001b[0m \u001b[0;36m162\u001b[0m\u001b[0;34m\u001b[0m\u001b[0;34m\u001b[0m\u001b[0m\n\u001b[0m",
      "\u001b[0;31mTypeError\u001b[0m: 'tuple' object does not support item assignment"
     ]
    }
   ],
   "source": [
    "# changing the element\n",
    "heights[0] = 162"
   ]
  },
  {
   "cell_type": "code",
   "execution_count": null,
   "id": "945d8029",
   "metadata": {},
   "outputs": [],
   "source": []
  },
  {
   "cell_type": "markdown",
   "id": "87e641e6",
   "metadata": {},
   "source": [
    "# Sets"
   ]
  },
  {
   "cell_type": "code",
   "execution_count": 80,
   "id": "9eebb0b3",
   "metadata": {},
   "outputs": [],
   "source": [
    "elements = {5, 9, 10, 7, 8, 5, 5, 5, 7, 8, 9}"
   ]
  },
  {
   "cell_type": "code",
   "execution_count": 81,
   "id": "458fd13b",
   "metadata": {},
   "outputs": [
    {
     "name": "stdout",
     "output_type": "stream",
     "text": [
      "{5, 7, 8, 9, 10}\n"
     ]
    }
   ],
   "source": [
    "print(elements)"
   ]
  },
  {
   "cell_type": "code",
   "execution_count": 84,
   "id": "80c4a523",
   "metadata": {},
   "outputs": [
    {
     "ename": "TypeError",
     "evalue": "'set' object is not subscriptable",
     "output_type": "error",
     "traceback": [
      "\u001b[0;31m---------------------------------------------------------------------------\u001b[0m",
      "\u001b[0;31mTypeError\u001b[0m                                 Traceback (most recent call last)",
      "\u001b[0;32m<ipython-input-84-52b8e6080726>\u001b[0m in \u001b[0;36m<module>\u001b[0;34m\u001b[0m\n\u001b[1;32m      1\u001b[0m \u001b[0;31m# No indexing\u001b[0m\u001b[0;34m\u001b[0m\u001b[0;34m\u001b[0m\u001b[0;34m\u001b[0m\u001b[0m\n\u001b[0;32m----> 2\u001b[0;31m \u001b[0melements\u001b[0m\u001b[0;34m[\u001b[0m\u001b[0;34m-\u001b[0m\u001b[0;36m1\u001b[0m\u001b[0;34m]\u001b[0m\u001b[0;34m\u001b[0m\u001b[0;34m\u001b[0m\u001b[0m\n\u001b[0m",
      "\u001b[0;31mTypeError\u001b[0m: 'set' object is not subscriptable"
     ]
    }
   ],
   "source": [
    "# No indexing\n",
    "elements[-1]"
   ]
  },
  {
   "cell_type": "code",
   "execution_count": 85,
   "id": "17dbdbc6",
   "metadata": {},
   "outputs": [],
   "source": [
    "elements.add(100)"
   ]
  },
  {
   "cell_type": "code",
   "execution_count": 86,
   "id": "f4148d73",
   "metadata": {},
   "outputs": [
    {
     "name": "stdout",
     "output_type": "stream",
     "text": [
      "{100, 5, 7, 8, 9, 10}\n"
     ]
    }
   ],
   "source": [
    "print(elements)"
   ]
  },
  {
   "cell_type": "code",
   "execution_count": null,
   "id": "c1997a97",
   "metadata": {},
   "outputs": [],
   "source": [
    "# remove an element"
   ]
  },
  {
   "cell_type": "code",
   "execution_count": null,
   "id": "b4d34376",
   "metadata": {},
   "outputs": [],
   "source": [
    "# s1 = {}\n",
    "# s2 = {}\n",
    "\n",
    "# s1.union(s2)\n",
    "# s1.intersection(s2)"
   ]
  },
  {
   "cell_type": "code",
   "execution_count": null,
   "id": "e886b920",
   "metadata": {},
   "outputs": [],
   "source": []
  },
  {
   "cell_type": "code",
   "execution_count": 88,
   "id": "8015ed92",
   "metadata": {},
   "outputs": [
    {
     "data": {
      "text/plain": [
       "{55, 66, 80, 84, 91, 95, 99, 100}"
      ]
     },
     "execution_count": 88,
     "metadata": {},
     "output_type": "execute_result"
    }
   ],
   "source": [
    "# converting list into set\n",
    "\n",
    "set(marks)"
   ]
  },
  {
   "cell_type": "code",
   "execution_count": 90,
   "id": "0ea154ca",
   "metadata": {},
   "outputs": [
    {
     "data": {
      "text/plain": [
       "[100, 5, 7, 8, 9, 10]"
      ]
     },
     "execution_count": 90,
     "metadata": {},
     "output_type": "execute_result"
    }
   ],
   "source": [
    "list(elements)"
   ]
  },
  {
   "cell_type": "code",
   "execution_count": 91,
   "id": "3d397fb5",
   "metadata": {},
   "outputs": [
    {
     "data": {
      "text/plain": [
       "(100, 5, 7, 8, 9, 10)"
      ]
     },
     "execution_count": 91,
     "metadata": {},
     "output_type": "execute_result"
    }
   ],
   "source": [
    "tuple(elements)"
   ]
  },
  {
   "cell_type": "code",
   "execution_count": null,
   "id": "5bf4d608",
   "metadata": {},
   "outputs": [],
   "source": []
  },
  {
   "cell_type": "markdown",
   "id": "09c4d0d6",
   "metadata": {},
   "source": [
    "# Dictionary"
   ]
  },
  {
   "cell_type": "code",
   "execution_count": 92,
   "id": "6da7d050",
   "metadata": {},
   "outputs": [],
   "source": [
    "food_menu = {'samosa' : 10, \n",
    "            'burger' : 30,\n",
    "            'pizza' : 50}"
   ]
  },
  {
   "cell_type": "code",
   "execution_count": 93,
   "id": "556d24dc",
   "metadata": {},
   "outputs": [
    {
     "name": "stdout",
     "output_type": "stream",
     "text": [
      "{'samosa': 10, 'burger': 30, 'pizza': 50}\n"
     ]
    }
   ],
   "source": [
    "print(food_menu)"
   ]
  },
  {
   "cell_type": "code",
   "execution_count": 94,
   "id": "edf32784",
   "metadata": {},
   "outputs": [
    {
     "data": {
      "text/plain": [
       "dict"
      ]
     },
     "execution_count": 94,
     "metadata": {},
     "output_type": "execute_result"
    }
   ],
   "source": [
    "type(food_menu)"
   ]
  },
  {
   "cell_type": "code",
   "execution_count": 96,
   "id": "db9843ef",
   "metadata": {},
   "outputs": [
    {
     "name": "stdout",
     "output_type": "stream",
     "text": [
      "50\n"
     ]
    }
   ],
   "source": [
    "print(food_menu['pizza'])"
   ]
  },
  {
   "cell_type": "code",
   "execution_count": 98,
   "id": "b3002543",
   "metadata": {},
   "outputs": [
    {
     "ename": "KeyError",
     "evalue": "'fruits'",
     "output_type": "error",
     "traceback": [
      "\u001b[0;31m---------------------------------------------------------------------------\u001b[0m",
      "\u001b[0;31mKeyError\u001b[0m                                  Traceback (most recent call last)",
      "\u001b[0;32m<ipython-input-98-8d8d79b68a21>\u001b[0m in \u001b[0;36m<module>\u001b[0;34m\u001b[0m\n\u001b[0;32m----> 1\u001b[0;31m \u001b[0mprint\u001b[0m\u001b[0;34m(\u001b[0m\u001b[0mfood_menu\u001b[0m\u001b[0;34m[\u001b[0m\u001b[0;34m'fruits'\u001b[0m\u001b[0;34m]\u001b[0m\u001b[0;34m)\u001b[0m\u001b[0;34m\u001b[0m\u001b[0;34m\u001b[0m\u001b[0m\n\u001b[0m",
      "\u001b[0;31mKeyError\u001b[0m: 'fruits'"
     ]
    }
   ],
   "source": [
    "print(food_menu['fruits'])"
   ]
  },
  {
   "cell_type": "code",
   "execution_count": 100,
   "id": "4bee7dd0",
   "metadata": {},
   "outputs": [],
   "source": [
    "# adding elements\n",
    "food_menu['fruits'] = 35"
   ]
  },
  {
   "cell_type": "code",
   "execution_count": 101,
   "id": "d3e3e231",
   "metadata": {},
   "outputs": [
    {
     "name": "stdout",
     "output_type": "stream",
     "text": [
      "{'samosa': 10, 'burger': 30, 'pizza': 50, 'fruits': 35}\n"
     ]
    }
   ],
   "source": [
    "print(food_menu)"
   ]
  },
  {
   "cell_type": "code",
   "execution_count": 102,
   "id": "0179f509",
   "metadata": {},
   "outputs": [
    {
     "data": {
      "text/plain": [
       "35"
      ]
     },
     "execution_count": 102,
     "metadata": {},
     "output_type": "execute_result"
    }
   ],
   "source": [
    "food_menu['fruits']"
   ]
  },
  {
   "cell_type": "code",
   "execution_count": 109,
   "id": "530ed29b",
   "metadata": {},
   "outputs": [],
   "source": [
    "food_menu.get('juice')"
   ]
  },
  {
   "cell_type": "code",
   "execution_count": 110,
   "id": "66a5f23a",
   "metadata": {},
   "outputs": [],
   "source": [
    "food_menu['juice'] = [20, 30, 40]"
   ]
  },
  {
   "cell_type": "code",
   "execution_count": 111,
   "id": "3ddcbcd0",
   "metadata": {},
   "outputs": [
    {
     "name": "stdout",
     "output_type": "stream",
     "text": [
      "{'samosa': 10, 'burger': 30, 'pizza': 50, 'fruits': 35, 'juice': [20, 30, 40]}\n"
     ]
    }
   ],
   "source": [
    "print(food_menu)"
   ]
  },
  {
   "cell_type": "code",
   "execution_count": 115,
   "id": "50be852c",
   "metadata": {},
   "outputs": [
    {
     "data": {
      "text/plain": [
       "30"
      ]
     },
     "execution_count": 115,
     "metadata": {},
     "output_type": "execute_result"
    }
   ],
   "source": [
    "food_menu['juice'][1]"
   ]
  },
  {
   "cell_type": "code",
   "execution_count": 117,
   "id": "a2431c79",
   "metadata": {},
   "outputs": [],
   "source": [
    "food_menu['fruits'] = {'mango' : 30, 'banana' : 25, 'apple' : 35} "
   ]
  },
  {
   "cell_type": "code",
   "execution_count": 118,
   "id": "af24d2ed",
   "metadata": {},
   "outputs": [
    {
     "data": {
      "text/plain": [
       "{'samosa': 10,\n",
       " 'burger': 30,\n",
       " 'pizza': 50,\n",
       " 'fruits': {'mango': 30, 'banana': 25, 'apple': 35},\n",
       " 'juice': [20, 30, 40]}"
      ]
     },
     "execution_count": 118,
     "metadata": {},
     "output_type": "execute_result"
    }
   ],
   "source": [
    "food_menu"
   ]
  },
  {
   "cell_type": "code",
   "execution_count": 119,
   "id": "406f0ae0",
   "metadata": {},
   "outputs": [
    {
     "data": {
      "text/plain": [
       "{'mango': 30, 'banana': 25, 'apple': 35}"
      ]
     },
     "execution_count": 119,
     "metadata": {},
     "output_type": "execute_result"
    }
   ],
   "source": [
    "food_menu['fruits']"
   ]
  },
  {
   "cell_type": "code",
   "execution_count": 121,
   "id": "9aec852e",
   "metadata": {},
   "outputs": [
    {
     "data": {
      "text/plain": [
       "25"
      ]
     },
     "execution_count": 121,
     "metadata": {},
     "output_type": "execute_result"
    }
   ],
   "source": [
    "food_menu['fruits']['banana']"
   ]
  },
  {
   "cell_type": "code",
   "execution_count": 122,
   "id": "4d4cee3b",
   "metadata": {},
   "outputs": [
    {
     "data": {
      "text/plain": [
       "dict_keys(['samosa', 'burger', 'pizza', 'fruits', 'juice'])"
      ]
     },
     "execution_count": 122,
     "metadata": {},
     "output_type": "execute_result"
    }
   ],
   "source": [
    "food_menu.keys()"
   ]
  },
  {
   "cell_type": "code",
   "execution_count": 123,
   "id": "3069f3c4",
   "metadata": {},
   "outputs": [
    {
     "data": {
      "text/plain": [
       "dict_values([10, 30, 50, {'mango': 30, 'banana': 25, 'apple': 35}, [20, 30, 40]])"
      ]
     },
     "execution_count": 123,
     "metadata": {},
     "output_type": "execute_result"
    }
   ],
   "source": [
    "food_menu.values()"
   ]
  },
  {
   "cell_type": "code",
   "execution_count": null,
   "id": "df53d504",
   "metadata": {},
   "outputs": [],
   "source": []
  },
  {
   "cell_type": "code",
   "execution_count": 126,
   "id": "611e31f8",
   "metadata": {},
   "outputs": [
    {
     "name": "stdout",
     "output_type": "stream",
     "text": [
      "Aman\n"
     ]
    }
   ],
   "source": [
    "name = input()"
   ]
  },
  {
   "cell_type": "code",
   "execution_count": 127,
   "id": "c35c219b",
   "metadata": {},
   "outputs": [
    {
     "data": {
      "text/plain": [
       "'Aman'"
      ]
     },
     "execution_count": 127,
     "metadata": {},
     "output_type": "execute_result"
    }
   ],
   "source": [
    "name"
   ]
  },
  {
   "cell_type": "code",
   "execution_count": null,
   "id": "b487b7db",
   "metadata": {},
   "outputs": [],
   "source": []
  }
 ],
 "metadata": {
  "kernelspec": {
   "display_name": "Python 3",
   "language": "python",
   "name": "python3"
  },
  "language_info": {
   "codemirror_mode": {
    "name": "ipython",
    "version": 3
   },
   "file_extension": ".py",
   "mimetype": "text/x-python",
   "name": "python",
   "nbconvert_exporter": "python",
   "pygments_lexer": "ipython3",
   "version": "3.8.8"
  }
 },
 "nbformat": 4,
 "nbformat_minor": 5
}
