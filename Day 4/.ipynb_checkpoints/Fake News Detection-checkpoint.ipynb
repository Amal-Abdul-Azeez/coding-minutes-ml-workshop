{
 "cells": [
  {
   "cell_type": "code",
   "execution_count": 47,
   "id": "56b1feec",
   "metadata": {},
   "outputs": [],
   "source": [
    "import pandas as pd\n",
    "import numpy as np\n",
    "import matplotlib.pyplot as plt"
   ]
  },
  {
   "cell_type": "code",
   "execution_count": 48,
   "id": "b9f02bbf",
   "metadata": {},
   "outputs": [],
   "source": [
    "data = pd.read_csv('FakeNews.csv')"
   ]
  },
  {
   "cell_type": "code",
   "execution_count": 49,
   "id": "27d4a53c",
   "metadata": {},
   "outputs": [
    {
     "data": {
      "text/plain": [
       "(4009, 4)"
      ]
     },
     "execution_count": 49,
     "metadata": {},
     "output_type": "execute_result"
    }
   ],
   "source": [
    "data.shape"
   ]
  },
  {
   "cell_type": "code",
   "execution_count": 50,
   "id": "747a1f06",
   "metadata": {},
   "outputs": [
    {
     "data": {
      "text/plain": [
       "Index(['URLs', 'Headline', 'Body', 'Label'], dtype='object')"
      ]
     },
     "execution_count": 50,
     "metadata": {},
     "output_type": "execute_result"
    }
   ],
   "source": [
    "data.columns"
   ]
  },
  {
   "cell_type": "code",
   "execution_count": 51,
   "id": "cc0e45a8",
   "metadata": {},
   "outputs": [
    {
     "data": {
      "text/html": [
       "<div>\n",
       "<style scoped>\n",
       "    .dataframe tbody tr th:only-of-type {\n",
       "        vertical-align: middle;\n",
       "    }\n",
       "\n",
       "    .dataframe tbody tr th {\n",
       "        vertical-align: top;\n",
       "    }\n",
       "\n",
       "    .dataframe thead th {\n",
       "        text-align: right;\n",
       "    }\n",
       "</style>\n",
       "<table border=\"1\" class=\"dataframe\">\n",
       "  <thead>\n",
       "    <tr style=\"text-align: right;\">\n",
       "      <th></th>\n",
       "      <th>URLs</th>\n",
       "      <th>Headline</th>\n",
       "      <th>Body</th>\n",
       "      <th>Label</th>\n",
       "    </tr>\n",
       "  </thead>\n",
       "  <tbody>\n",
       "    <tr>\n",
       "      <th>0</th>\n",
       "      <td>http://www.bbc.com/news/world-us-canada-414191...</td>\n",
       "      <td>Four ways Bob Corker skewered Donald Trump</td>\n",
       "      <td>Image copyright Getty Images\\nOn Sunday mornin...</td>\n",
       "      <td>1</td>\n",
       "    </tr>\n",
       "    <tr>\n",
       "      <th>1</th>\n",
       "      <td>https://www.reuters.com/article/us-filmfestiva...</td>\n",
       "      <td>Linklater's war veteran comedy speaks to moder...</td>\n",
       "      <td>LONDON (Reuters) - “Last Flag Flying”, a comed...</td>\n",
       "      <td>1</td>\n",
       "    </tr>\n",
       "    <tr>\n",
       "      <th>2</th>\n",
       "      <td>https://www.nytimes.com/2017/10/09/us/politics...</td>\n",
       "      <td>Trump’s Fight With Corker Jeopardizes His Legi...</td>\n",
       "      <td>The feud broke into public view last week when...</td>\n",
       "      <td>1</td>\n",
       "    </tr>\n",
       "    <tr>\n",
       "      <th>3</th>\n",
       "      <td>https://www.reuters.com/article/us-mexico-oil-...</td>\n",
       "      <td>Egypt's Cheiron wins tie-up with Pemex for Mex...</td>\n",
       "      <td>MEXICO CITY (Reuters) - Egypt’s Cheiron Holdin...</td>\n",
       "      <td>1</td>\n",
       "    </tr>\n",
       "    <tr>\n",
       "      <th>4</th>\n",
       "      <td>http://www.cnn.com/videos/cnnmoney/2017/10/08/...</td>\n",
       "      <td>Jason Aldean opens 'SNL' with Vegas tribute</td>\n",
       "      <td>Country singer Jason Aldean, who was performin...</td>\n",
       "      <td>1</td>\n",
       "    </tr>\n",
       "  </tbody>\n",
       "</table>\n",
       "</div>"
      ],
      "text/plain": [
       "                                                URLs  \\\n",
       "0  http://www.bbc.com/news/world-us-canada-414191...   \n",
       "1  https://www.reuters.com/article/us-filmfestiva...   \n",
       "2  https://www.nytimes.com/2017/10/09/us/politics...   \n",
       "3  https://www.reuters.com/article/us-mexico-oil-...   \n",
       "4  http://www.cnn.com/videos/cnnmoney/2017/10/08/...   \n",
       "\n",
       "                                            Headline  \\\n",
       "0         Four ways Bob Corker skewered Donald Trump   \n",
       "1  Linklater's war veteran comedy speaks to moder...   \n",
       "2  Trump’s Fight With Corker Jeopardizes His Legi...   \n",
       "3  Egypt's Cheiron wins tie-up with Pemex for Mex...   \n",
       "4        Jason Aldean opens 'SNL' with Vegas tribute   \n",
       "\n",
       "                                                Body  Label  \n",
       "0  Image copyright Getty Images\\nOn Sunday mornin...      1  \n",
       "1  LONDON (Reuters) - “Last Flag Flying”, a comed...      1  \n",
       "2  The feud broke into public view last week when...      1  \n",
       "3  MEXICO CITY (Reuters) - Egypt’s Cheiron Holdin...      1  \n",
       "4  Country singer Jason Aldean, who was performin...      1  "
      ]
     },
     "execution_count": 51,
     "metadata": {},
     "output_type": "execute_result"
    }
   ],
   "source": [
    "data.head(5)"
   ]
  },
  {
   "cell_type": "code",
   "execution_count": 52,
   "id": "65d1132b",
   "metadata": {},
   "outputs": [
    {
     "name": "stdout",
     "output_type": "stream",
     "text": [
      "https://www.nytimes.com/2017/10/09/us/politics/corkers-blast-at-trump-has-other-republicans-nodding-in-agreement.html?rref=collection%2Fsectioncollection%2Fpolitics\r\n",
      "\n"
     ]
    }
   ],
   "source": [
    "print(data.iloc[2][0])"
   ]
  },
  {
   "cell_type": "code",
   "execution_count": 53,
   "id": "1d5b77a9",
   "metadata": {},
   "outputs": [
    {
     "name": "stdout",
     "output_type": "stream",
     "text": [
      "Trump’s Fight With Corker Jeopardizes His Legislative Agenda\n"
     ]
    }
   ],
   "source": [
    "print(data.iloc[2][1])"
   ]
  },
  {
   "cell_type": "code",
   "execution_count": 54,
   "id": "e41b94bd",
   "metadata": {},
   "outputs": [
    {
     "name": "stdout",
     "output_type": "stream",
     "text": [
      "The feud broke into public view last week when Mr. Corker said that Mr. Trump’s advisers were guarding against “chaos.” The president retaliated on Sunday by saying the retiring senator “didn’t have the guts to run” for another term. Mr. Corker responded on Twitter an hour later, saying that the White House had become an “adult day care center.”\n",
      "He then unloaded in an interview with The New York Times, saying in public what many of his Republican colleagues say in private — that the president is dangerously erratic, treats his high office like “a reality show,” has to be contained by his staff and is reckless enough to put the country “on the path to World War III.”\n",
      "Mr. Corker, a moderate by temperament as well as ideology, had measured his occasional criticisms of Mr. Trump for months in hopes of influencing his foreign policy, but evidently feels liberated now that he has decided not to run for a third term.\n",
      "Few other incumbent Republicans rushed to the microphones to echo his comments on Monday, but several made little attempt to hide their irritation at Mr. Trump for attacking Mr. Corker.\n",
      "“He’s an important part of our team, and he’s a particularly important part of the budget debate, which will be on the floor next week,” Mr. McConnell said pointedly at an event in Hazard, Ky., with Scott Pruitt, the head of the Environmental Protection Agency.\n",
      "“Bob Corker has been a leader in Congress on issues as diverse as deficit reduction and combating terrorism, and he is a man of unwavering integrity,” Senator Rob Portman, Republican of Ohio, said in a statement. “If we’re going to accomplish our economic and national security agenda we’re going to have to work together, period.”\n",
      "Mr. McConnell’s associates were blunter in expressing the leadership’s frustration with the president for disrupting party unity as Republicans push for tax cuts. “This was going to be hard no matter what,” said Billy Piper, Mr. McConnell’s former chief of staff. “And he took the guy who was one of the linchpins of this and incinerated him for no reason.”\n",
      "Advertisement Continue reading the main story\n",
      "The White House spent Monday telling allies that Mr. Corker was responsible for the fight, not Mr. Trump, and that the senator was an attention-seeking obstructionist.\n",
      "Newsletter Sign Up Continue reading the main story Please verify you're not a robot by clicking the box. Invalid email address. Please re-enter. You must select a newsletter to subscribe to. Sign Up You agree to receive occasional updates and special offers for The New York Times's products and services. Thank you for subscribing. An error has occurred. Please try again later. View all New York Times newsletters.\n",
      "“I find tweets like this to be incredibly irresponsible,” Kellyanne Conway, the president’s counselor, told Fox News, referring to Mr. Corker’s posted response to Mr. Trump on Sunday. “It adds to the insulting that the mainstream media and the president’s detractors — almost a year after this election, they still can’t accept the election results. It adds to their ability and their cover to speak about the president of the United States in ways that no president should be talked about.”\n",
      "Vice President Mike Pence was left to defend Mr. Trump against what he called “empty rhetoric and baseless attacks,” saying the president had accomplished a lot internationally. “Today our nation once again stands without apology as leader of the free world,” Mr. Pence said in a statement. “That’s what American leadership on the world stage looks like and no amount of criticism at home can diminish those results.”\n",
      "Mr. Trump has grown frustrated by Senate Republicans — including lashing out at Mr. McConnell for not getting the job done — as legislation to repeal President Barack Obama’s health care program has been repeatedly blocked. He has engaged in open conflicts with Senators John McCain and Jeff Flake of Arizona, Lindsey Graham of South Carolina and Lisa Murkowski of Alaska, among others, although just Monday he went golfing with Mr. Graham.\n",
      "Some Republican senators share Mr. Trump’s frustration with gridlock in the Senate. “We want things to move quickly,” said Senator Thom Tillis of North Carolina, who was elected in 2014. “People are frustrated with the lack of results.”\n",
      "Senator David Perdue of Georgia, another member of the 2014 class, has been even more outspoken in venting about fellow Republicans derailing health care legislation. “People are very upset that Republican senators are not backing the agenda of this president,” he said.\n",
      "Mr. Trump’s former chief strategist, Stephen K. Bannon, acting in what he says is the president’s interest, is organizing a rebellion against the Republican establishment and recruiting candidates to challenge incumbent senators in primaries next year. “This is what they think about President Trump behind closed doors,” Mr. Bannon said on Fox News on Monday night, referring to Mr. Corker’s comments and calling on the senator to resign. Mr. Pence’s chief of staff has talked about a “purge” of Republicans who are not loyal to Mr. Trump.\n",
      "That may keep more Republicans on board even if they agree with Mr. Corker.\n",
      "“Do most senators have their doubts about the president?” asked John Feehery, a longtime Republican congressional aide. “That’s probably true, but also largely irrelevant. He’s the president, and they have to find ways to get stuff done with him. Otherwise, they face the wrath of the voters — something Bob Corker no longer worries about.”\n",
      "In effect, Mr. McCain, Ms. Murkowski and Senator Susan Collins of Maine already were free agents on many issues. Regular defections by Mr. Corker would make the president’s ability to pass legislation that much harder, absent bipartisan deals with Democrats.\n",
      "Advertisement Continue reading the main story\n",
      "As chairman of the Senate Foreign Relations Committee, Mr. Corker could block the confirmation of a new secretary of state should Mr. Trump push out his embattled chief diplomat, Rex W. Tillerson. He also, presumably, would play a key role in any decision on whether to tear up the Iran nuclear deal.\n",
      "“Senate Republicans’ frustrations with Trump are starting to boil over,” said Alex Conant, a former Senate Republican aide. “I’m sure the feelings are mutual inside the White House. The relationship was always tenuous at best, but Corker’s comments are a new low point.”\n",
      "“If they were getting a lot done, it would be easier for everyone to get along,” Mr. Conant said. “Of course, the fact that they’re not getting along also makes it harder to get anything done.”\n"
     ]
    }
   ],
   "source": [
    "print(data.iloc[2][2])"
   ]
  },
  {
   "cell_type": "code",
   "execution_count": 55,
   "id": "a5d8e6c5",
   "metadata": {},
   "outputs": [
    {
     "name": "stdout",
     "output_type": "stream",
     "text": [
      "1\n"
     ]
    }
   ],
   "source": [
    "print(data.iloc[2][3])"
   ]
  },
  {
   "cell_type": "code",
   "execution_count": 56,
   "id": "be53925f",
   "metadata": {},
   "outputs": [
    {
     "data": {
      "text/plain": [
       "URLs         0\n",
       "Headline     0\n",
       "Body        21\n",
       "Label        0\n",
       "dtype: int64"
      ]
     },
     "execution_count": 56,
     "metadata": {},
     "output_type": "execute_result"
    }
   ],
   "source": [
    "data.isnull().sum()"
   ]
  },
  {
   "cell_type": "code",
   "execution_count": 57,
   "id": "17b279d4",
   "metadata": {},
   "outputs": [],
   "source": [
    "# deleting the empty rows\n",
    "\n",
    "data = data.dropna()"
   ]
  },
  {
   "cell_type": "code",
   "execution_count": 58,
   "id": "1fbb4d49",
   "metadata": {},
   "outputs": [
    {
     "data": {
      "text/plain": [
       "(3988, 4)"
      ]
     },
     "execution_count": 58,
     "metadata": {},
     "output_type": "execute_result"
    }
   ],
   "source": [
    "data.shape"
   ]
  },
  {
   "cell_type": "code",
   "execution_count": 59,
   "id": "037ffc2a",
   "metadata": {},
   "outputs": [
    {
     "data": {
      "text/plain": [
       "URLs        0\n",
       "Headline    0\n",
       "Body        0\n",
       "Label       0\n",
       "dtype: int64"
      ]
     },
     "execution_count": 59,
     "metadata": {},
     "output_type": "execute_result"
    }
   ],
   "source": [
    "data.isnull().sum()"
   ]
  },
  {
   "cell_type": "code",
   "execution_count": null,
   "id": "ef4981b1",
   "metadata": {},
   "outputs": [],
   "source": []
  },
  {
   "cell_type": "code",
   "execution_count": 60,
   "id": "905ca62d",
   "metadata": {},
   "outputs": [
    {
     "data": {
      "text/html": [
       "<div>\n",
       "<style scoped>\n",
       "    .dataframe tbody tr th:only-of-type {\n",
       "        vertical-align: middle;\n",
       "    }\n",
       "\n",
       "    .dataframe tbody tr th {\n",
       "        vertical-align: top;\n",
       "    }\n",
       "\n",
       "    .dataframe thead th {\n",
       "        text-align: right;\n",
       "    }\n",
       "</style>\n",
       "<table border=\"1\" class=\"dataframe\">\n",
       "  <thead>\n",
       "    <tr style=\"text-align: right;\">\n",
       "      <th></th>\n",
       "      <th>URLs</th>\n",
       "      <th>Headline</th>\n",
       "      <th>Body</th>\n",
       "      <th>Label</th>\n",
       "    </tr>\n",
       "  </thead>\n",
       "  <tbody>\n",
       "    <tr>\n",
       "      <th>0</th>\n",
       "      <td>http://www.bbc.com/news/world-us-canada-414191...</td>\n",
       "      <td>Four ways Bob Corker skewered Donald Trump</td>\n",
       "      <td>Image copyright Getty Images\\nOn Sunday mornin...</td>\n",
       "      <td>1</td>\n",
       "    </tr>\n",
       "    <tr>\n",
       "      <th>1</th>\n",
       "      <td>https://www.reuters.com/article/us-filmfestiva...</td>\n",
       "      <td>Linklater's war veteran comedy speaks to moder...</td>\n",
       "      <td>LONDON (Reuters) - “Last Flag Flying”, a comed...</td>\n",
       "      <td>1</td>\n",
       "    </tr>\n",
       "    <tr>\n",
       "      <th>2</th>\n",
       "      <td>https://www.nytimes.com/2017/10/09/us/politics...</td>\n",
       "      <td>Trump’s Fight With Corker Jeopardizes His Legi...</td>\n",
       "      <td>The feud broke into public view last week when...</td>\n",
       "      <td>1</td>\n",
       "    </tr>\n",
       "    <tr>\n",
       "      <th>3</th>\n",
       "      <td>https://www.reuters.com/article/us-mexico-oil-...</td>\n",
       "      <td>Egypt's Cheiron wins tie-up with Pemex for Mex...</td>\n",
       "      <td>MEXICO CITY (Reuters) - Egypt’s Cheiron Holdin...</td>\n",
       "      <td>1</td>\n",
       "    </tr>\n",
       "    <tr>\n",
       "      <th>4</th>\n",
       "      <td>http://www.cnn.com/videos/cnnmoney/2017/10/08/...</td>\n",
       "      <td>Jason Aldean opens 'SNL' with Vegas tribute</td>\n",
       "      <td>Country singer Jason Aldean, who was performin...</td>\n",
       "      <td>1</td>\n",
       "    </tr>\n",
       "  </tbody>\n",
       "</table>\n",
       "</div>"
      ],
      "text/plain": [
       "                                                URLs  \\\n",
       "0  http://www.bbc.com/news/world-us-canada-414191...   \n",
       "1  https://www.reuters.com/article/us-filmfestiva...   \n",
       "2  https://www.nytimes.com/2017/10/09/us/politics...   \n",
       "3  https://www.reuters.com/article/us-mexico-oil-...   \n",
       "4  http://www.cnn.com/videos/cnnmoney/2017/10/08/...   \n",
       "\n",
       "                                            Headline  \\\n",
       "0         Four ways Bob Corker skewered Donald Trump   \n",
       "1  Linklater's war veteran comedy speaks to moder...   \n",
       "2  Trump’s Fight With Corker Jeopardizes His Legi...   \n",
       "3  Egypt's Cheiron wins tie-up with Pemex for Mex...   \n",
       "4        Jason Aldean opens 'SNL' with Vegas tribute   \n",
       "\n",
       "                                                Body  Label  \n",
       "0  Image copyright Getty Images\\nOn Sunday mornin...      1  \n",
       "1  LONDON (Reuters) - “Last Flag Flying”, a comed...      1  \n",
       "2  The feud broke into public view last week when...      1  \n",
       "3  MEXICO CITY (Reuters) - Egypt’s Cheiron Holdin...      1  \n",
       "4  Country singer Jason Aldean, who was performin...      1  "
      ]
     },
     "execution_count": 60,
     "metadata": {},
     "output_type": "execute_result"
    }
   ],
   "source": [
    "data.head()"
   ]
  },
  {
   "cell_type": "code",
   "execution_count": 61,
   "id": "0fc401bd",
   "metadata": {},
   "outputs": [],
   "source": [
    "data['News'] = data['Headline'] + \" \" + data['Body']"
   ]
  },
  {
   "cell_type": "code",
   "execution_count": 62,
   "id": "0cba4a97",
   "metadata": {},
   "outputs": [
    {
     "data": {
      "text/html": [
       "<div>\n",
       "<style scoped>\n",
       "    .dataframe tbody tr th:only-of-type {\n",
       "        vertical-align: middle;\n",
       "    }\n",
       "\n",
       "    .dataframe tbody tr th {\n",
       "        vertical-align: top;\n",
       "    }\n",
       "\n",
       "    .dataframe thead th {\n",
       "        text-align: right;\n",
       "    }\n",
       "</style>\n",
       "<table border=\"1\" class=\"dataframe\">\n",
       "  <thead>\n",
       "    <tr style=\"text-align: right;\">\n",
       "      <th></th>\n",
       "      <th>URLs</th>\n",
       "      <th>Headline</th>\n",
       "      <th>Body</th>\n",
       "      <th>Label</th>\n",
       "      <th>News</th>\n",
       "    </tr>\n",
       "  </thead>\n",
       "  <tbody>\n",
       "    <tr>\n",
       "      <th>0</th>\n",
       "      <td>http://www.bbc.com/news/world-us-canada-414191...</td>\n",
       "      <td>Four ways Bob Corker skewered Donald Trump</td>\n",
       "      <td>Image copyright Getty Images\\nOn Sunday mornin...</td>\n",
       "      <td>1</td>\n",
       "      <td>Four ways Bob Corker skewered Donald Trump Ima...</td>\n",
       "    </tr>\n",
       "    <tr>\n",
       "      <th>1</th>\n",
       "      <td>https://www.reuters.com/article/us-filmfestiva...</td>\n",
       "      <td>Linklater's war veteran comedy speaks to moder...</td>\n",
       "      <td>LONDON (Reuters) - “Last Flag Flying”, a comed...</td>\n",
       "      <td>1</td>\n",
       "      <td>Linklater's war veteran comedy speaks to moder...</td>\n",
       "    </tr>\n",
       "    <tr>\n",
       "      <th>2</th>\n",
       "      <td>https://www.nytimes.com/2017/10/09/us/politics...</td>\n",
       "      <td>Trump’s Fight With Corker Jeopardizes His Legi...</td>\n",
       "      <td>The feud broke into public view last week when...</td>\n",
       "      <td>1</td>\n",
       "      <td>Trump’s Fight With Corker Jeopardizes His Legi...</td>\n",
       "    </tr>\n",
       "    <tr>\n",
       "      <th>3</th>\n",
       "      <td>https://www.reuters.com/article/us-mexico-oil-...</td>\n",
       "      <td>Egypt's Cheiron wins tie-up with Pemex for Mex...</td>\n",
       "      <td>MEXICO CITY (Reuters) - Egypt’s Cheiron Holdin...</td>\n",
       "      <td>1</td>\n",
       "      <td>Egypt's Cheiron wins tie-up with Pemex for Mex...</td>\n",
       "    </tr>\n",
       "    <tr>\n",
       "      <th>4</th>\n",
       "      <td>http://www.cnn.com/videos/cnnmoney/2017/10/08/...</td>\n",
       "      <td>Jason Aldean opens 'SNL' with Vegas tribute</td>\n",
       "      <td>Country singer Jason Aldean, who was performin...</td>\n",
       "      <td>1</td>\n",
       "      <td>Jason Aldean opens 'SNL' with Vegas tribute Co...</td>\n",
       "    </tr>\n",
       "  </tbody>\n",
       "</table>\n",
       "</div>"
      ],
      "text/plain": [
       "                                                URLs  \\\n",
       "0  http://www.bbc.com/news/world-us-canada-414191...   \n",
       "1  https://www.reuters.com/article/us-filmfestiva...   \n",
       "2  https://www.nytimes.com/2017/10/09/us/politics...   \n",
       "3  https://www.reuters.com/article/us-mexico-oil-...   \n",
       "4  http://www.cnn.com/videos/cnnmoney/2017/10/08/...   \n",
       "\n",
       "                                            Headline  \\\n",
       "0         Four ways Bob Corker skewered Donald Trump   \n",
       "1  Linklater's war veteran comedy speaks to moder...   \n",
       "2  Trump’s Fight With Corker Jeopardizes His Legi...   \n",
       "3  Egypt's Cheiron wins tie-up with Pemex for Mex...   \n",
       "4        Jason Aldean opens 'SNL' with Vegas tribute   \n",
       "\n",
       "                                                Body  Label  \\\n",
       "0  Image copyright Getty Images\\nOn Sunday mornin...      1   \n",
       "1  LONDON (Reuters) - “Last Flag Flying”, a comed...      1   \n",
       "2  The feud broke into public view last week when...      1   \n",
       "3  MEXICO CITY (Reuters) - Egypt’s Cheiron Holdin...      1   \n",
       "4  Country singer Jason Aldean, who was performin...      1   \n",
       "\n",
       "                                                News  \n",
       "0  Four ways Bob Corker skewered Donald Trump Ima...  \n",
       "1  Linklater's war veteran comedy speaks to moder...  \n",
       "2  Trump’s Fight With Corker Jeopardizes His Legi...  \n",
       "3  Egypt's Cheiron wins tie-up with Pemex for Mex...  \n",
       "4  Jason Aldean opens 'SNL' with Vegas tribute Co...  "
      ]
     },
     "execution_count": 62,
     "metadata": {},
     "output_type": "execute_result"
    }
   ],
   "source": [
    "data.head()"
   ]
  },
  {
   "cell_type": "code",
   "execution_count": 63,
   "id": "0b73c490",
   "metadata": {},
   "outputs": [],
   "source": [
    "# delete 3 columns\n",
    "data = data.drop(columns = ['URLs', 'Headline', 'Body'] )"
   ]
  },
  {
   "cell_type": "code",
   "execution_count": 64,
   "id": "e08bb96d",
   "metadata": {},
   "outputs": [
    {
     "data": {
      "text/html": [
       "<div>\n",
       "<style scoped>\n",
       "    .dataframe tbody tr th:only-of-type {\n",
       "        vertical-align: middle;\n",
       "    }\n",
       "\n",
       "    .dataframe tbody tr th {\n",
       "        vertical-align: top;\n",
       "    }\n",
       "\n",
       "    .dataframe thead th {\n",
       "        text-align: right;\n",
       "    }\n",
       "</style>\n",
       "<table border=\"1\" class=\"dataframe\">\n",
       "  <thead>\n",
       "    <tr style=\"text-align: right;\">\n",
       "      <th></th>\n",
       "      <th>Label</th>\n",
       "      <th>News</th>\n",
       "    </tr>\n",
       "  </thead>\n",
       "  <tbody>\n",
       "    <tr>\n",
       "      <th>0</th>\n",
       "      <td>1</td>\n",
       "      <td>Four ways Bob Corker skewered Donald Trump Ima...</td>\n",
       "    </tr>\n",
       "    <tr>\n",
       "      <th>1</th>\n",
       "      <td>1</td>\n",
       "      <td>Linklater's war veteran comedy speaks to moder...</td>\n",
       "    </tr>\n",
       "    <tr>\n",
       "      <th>2</th>\n",
       "      <td>1</td>\n",
       "      <td>Trump’s Fight With Corker Jeopardizes His Legi...</td>\n",
       "    </tr>\n",
       "    <tr>\n",
       "      <th>3</th>\n",
       "      <td>1</td>\n",
       "      <td>Egypt's Cheiron wins tie-up with Pemex for Mex...</td>\n",
       "    </tr>\n",
       "    <tr>\n",
       "      <th>4</th>\n",
       "      <td>1</td>\n",
       "      <td>Jason Aldean opens 'SNL' with Vegas tribute Co...</td>\n",
       "    </tr>\n",
       "    <tr>\n",
       "      <th>...</th>\n",
       "      <td>...</td>\n",
       "      <td>...</td>\n",
       "    </tr>\n",
       "    <tr>\n",
       "      <th>4003</th>\n",
       "      <td>0</td>\n",
       "      <td>CNN and Globalist Exposed - Steve Quayle and A...</td>\n",
       "    </tr>\n",
       "    <tr>\n",
       "      <th>4004</th>\n",
       "      <td>0</td>\n",
       "      <td>Trends to Watch Trends to Watch\\n% of readers ...</td>\n",
       "    </tr>\n",
       "    <tr>\n",
       "      <th>4005</th>\n",
       "      <td>0</td>\n",
       "      <td>Trump Jr. Is Soon To Give A 30-Minute Speech F...</td>\n",
       "    </tr>\n",
       "    <tr>\n",
       "      <th>4007</th>\n",
       "      <td>1</td>\n",
       "      <td>China to accept overseas trial data in bid to ...</td>\n",
       "    </tr>\n",
       "    <tr>\n",
       "      <th>4008</th>\n",
       "      <td>0</td>\n",
       "      <td>Vice President Mike Pence Leaves NFL Game Beca...</td>\n",
       "    </tr>\n",
       "  </tbody>\n",
       "</table>\n",
       "<p>3988 rows × 2 columns</p>\n",
       "</div>"
      ],
      "text/plain": [
       "      Label                                               News\n",
       "0         1  Four ways Bob Corker skewered Donald Trump Ima...\n",
       "1         1  Linklater's war veteran comedy speaks to moder...\n",
       "2         1  Trump’s Fight With Corker Jeopardizes His Legi...\n",
       "3         1  Egypt's Cheiron wins tie-up with Pemex for Mex...\n",
       "4         1  Jason Aldean opens 'SNL' with Vegas tribute Co...\n",
       "...     ...                                                ...\n",
       "4003      0  CNN and Globalist Exposed - Steve Quayle and A...\n",
       "4004      0  Trends to Watch Trends to Watch\\n% of readers ...\n",
       "4005      0  Trump Jr. Is Soon To Give A 30-Minute Speech F...\n",
       "4007      1  China to accept overseas trial data in bid to ...\n",
       "4008      0  Vice President Mike Pence Leaves NFL Game Beca...\n",
       "\n",
       "[3988 rows x 2 columns]"
      ]
     },
     "execution_count": 64,
     "metadata": {},
     "output_type": "execute_result"
    }
   ],
   "source": [
    "data"
   ]
  },
  {
   "cell_type": "code",
   "execution_count": null,
   "id": "5baefb34",
   "metadata": {},
   "outputs": [],
   "source": []
  },
  {
   "cell_type": "markdown",
   "id": "87823875",
   "metadata": {},
   "source": [
    "# Data Preprocessing"
   ]
  },
  {
   "cell_type": "code",
   "execution_count": 65,
   "id": "8e157a24",
   "metadata": {},
   "outputs": [],
   "source": [
    "from nltk.tokenize import word_tokenize\n",
    "from nltk.stem import SnowballStemmer\n",
    "from nltk.corpus import stopwords"
   ]
  },
  {
   "cell_type": "code",
   "execution_count": 66,
   "id": "6a28ea98",
   "metadata": {},
   "outputs": [],
   "source": [
    "sw = stopwords.words('english')\n",
    "ss = SnowballStemmer('english')"
   ]
  },
  {
   "cell_type": "code",
   "execution_count": 67,
   "id": "092303e4",
   "metadata": {},
   "outputs": [],
   "source": [
    "def data_cleaning(document):\n",
    "    document = document.lower()\n",
    "    words = word_tokenize(document)\n",
    "    \n",
    "    # list comprehension\n",
    "    # stopword removal + stemming\n",
    "    words = [ss.stem(w) for w in words if w not in sw and len(w)>1]\n",
    "    \n",
    "    # convert tokens into string\n",
    "    cleaned = \" \".join(words)\n",
    "    \n",
    "    return cleaned"
   ]
  },
  {
   "cell_type": "code",
   "execution_count": 68,
   "id": "d5a77c5a",
   "metadata": {},
   "outputs": [
    {
     "data": {
      "text/plain": [
       "\"four way bob corker skewer donald trump imag copyright getti imag sunday morn donald trump went twitter tirad member parti n't exact huge news 's far first time presid turn rhetor cannon rank time howev attack particular bite person essenti call tennesse senat bob corker chair power senat foreign relat committe coward run re-elect said mr corker `` beg '' presid 's endors refus give wrong claim mr corker 's support iranian nuclear agreement polit accomplish unlik colleagu mr corker free worri immedi polit futur n't hold tongu skip twitter post senbobcork 's shame white hous becom adult day care center someon obvious miss shift morn senat bob corker senbobcork octob 2017 report n't end though spoke new york time realli let presid four choic quot tennesse senat 's interview time particular damn `` n't know presid tweet thing true know everyon know '' ca n't realli sugarcoat one mr corker flat-out say presid liar everyon know senat particular challeng mr trump 's insist unsuccess plead endors accus much broader mr corker presid use someth akin alli tennessean mr trump 's short list vice-presid secretari state imag copyright getti imag imag caption bob corker trump campaign ralli juli 2016 day seem much 's like mr corker go anywher anytim soon although 's run re-elect ll senat chair power committe januari 2019. presid 's margin success chamber razor-thin democrat continu stand togeth opposit afford lose two vote 52 republican senat 's healthcar reform collaps juli could bad news tax effort mr corker n't go presid favour `` look except peopl vast major caucus understand re deal '' frustrat congress grow republican feel presid 's inabl focus advanc agenda get sharpli divid parti come togeth plan repeal obamacar reform tax boost infrastructur spend challeng enough presid stir unrel controversi seem daili basi make thing harder one presid 's gift abil shake negat stori quick move differ subject work brilliant presidenti campaign 's less effect legisl slow grind imag copyright getti imag imag caption corker confirm hear secretari state rex tillerson month republican congress grumbl background among occasion someon like mr mcconnel lament presid n't understand senat work mr corker state loud clear 's say almost everyon agre ve kept silent still hope pass conserv legisl presid sign fear mr trump 's legion back primari challeng next year stay home general elect calculus ever chang becom riskier stay silent speak mr trump real troubl `` lot peopl think kind good cop bad cop act underway 's true '' time mr trump appear undercut secretari state rex tillerson other administr attempt use soft diplomaci deal rang intern crise war taliban afghanistan iran 's complianc multin nuclear agreement ongo disput qatar persian gulf neighbour unrest venezuela recent north korea 's continu ballist missil test target presid 's offhand remark twitter invect administr defend said part mr trump 's strategi updat version nixon-era `` madman theori '' presid forc adversari give way fear unpredict us leader 's action mr corker n't buy 's strategi say possibl chao hope mr trump 's senior advis abl avoid `` know fact everi singl day white hous 's situat tri contain '' 's grow collect john kelli face-palm photo serv testament chief-of-staff 's report frustrat deal presid mr trump goe off-script prais torch-bear white nationalist ralli charlottesvill mr kelli captur close eye rub arch nose attempt stave migrain imag copyright reuter imag caption white hous chief staff john kelli look us presid donald trump speak campaign ralli presid call north korean leader `` crimin '' speech unit nation mr kelli straight-up buri face hand white hous communic team often left scrambl tri explain refram indel presidenti `` joke '' remark direct contradict offici administr line even though mr kelli brought disciplin west wing staff presid still march beat drum continu unfett access phone 's twitter app bob corker latest person politician journalist sport star celebr feel mercuri presid 's uncontain ire\""
      ]
     },
     "execution_count": 68,
     "metadata": {},
     "output_type": "execute_result"
    }
   ],
   "source": [
    "# cleaned one news.\n",
    "\n",
    "data_cleaning(data['News'][0])"
   ]
  },
  {
   "cell_type": "code",
   "execution_count": null,
   "id": "ba691e0d",
   "metadata": {},
   "outputs": [],
   "source": []
  },
  {
   "cell_type": "code",
   "execution_count": 69,
   "id": "51dd1a7b",
   "metadata": {},
   "outputs": [],
   "source": [
    "data['Cleaned_News'] =  data['News'].apply(data_cleaning)"
   ]
  },
  {
   "cell_type": "code",
   "execution_count": null,
   "id": "9f8a00d1",
   "metadata": {},
   "outputs": [],
   "source": []
  },
  {
   "cell_type": "code",
   "execution_count": 70,
   "id": "e07815d4",
   "metadata": {},
   "outputs": [
    {
     "data": {
      "text/html": [
       "<div>\n",
       "<style scoped>\n",
       "    .dataframe tbody tr th:only-of-type {\n",
       "        vertical-align: middle;\n",
       "    }\n",
       "\n",
       "    .dataframe tbody tr th {\n",
       "        vertical-align: top;\n",
       "    }\n",
       "\n",
       "    .dataframe thead th {\n",
       "        text-align: right;\n",
       "    }\n",
       "</style>\n",
       "<table border=\"1\" class=\"dataframe\">\n",
       "  <thead>\n",
       "    <tr style=\"text-align: right;\">\n",
       "      <th></th>\n",
       "      <th>Label</th>\n",
       "      <th>News</th>\n",
       "      <th>Cleaned_News</th>\n",
       "    </tr>\n",
       "  </thead>\n",
       "  <tbody>\n",
       "    <tr>\n",
       "      <th>0</th>\n",
       "      <td>1</td>\n",
       "      <td>Four ways Bob Corker skewered Donald Trump Ima...</td>\n",
       "      <td>four way bob corker skewer donald trump imag c...</td>\n",
       "    </tr>\n",
       "    <tr>\n",
       "      <th>1</th>\n",
       "      <td>1</td>\n",
       "      <td>Linklater's war veteran comedy speaks to moder...</td>\n",
       "      <td>linklat 's war veteran comedi speak modern ame...</td>\n",
       "    </tr>\n",
       "    <tr>\n",
       "      <th>2</th>\n",
       "      <td>1</td>\n",
       "      <td>Trump’s Fight With Corker Jeopardizes His Legi...</td>\n",
       "      <td>trump fight corker jeopard legisl agenda feud ...</td>\n",
       "    </tr>\n",
       "    <tr>\n",
       "      <th>3</th>\n",
       "      <td>1</td>\n",
       "      <td>Egypt's Cheiron wins tie-up with Pemex for Mex...</td>\n",
       "      <td>egypt 's cheiron win tie-up pemex mexican onsh...</td>\n",
       "    </tr>\n",
       "    <tr>\n",
       "      <th>4</th>\n",
       "      <td>1</td>\n",
       "      <td>Jason Aldean opens 'SNL' with Vegas tribute Co...</td>\n",
       "      <td>jason aldean open snl vega tribut countri sing...</td>\n",
       "    </tr>\n",
       "  </tbody>\n",
       "</table>\n",
       "</div>"
      ],
      "text/plain": [
       "   Label                                               News  \\\n",
       "0      1  Four ways Bob Corker skewered Donald Trump Ima...   \n",
       "1      1  Linklater's war veteran comedy speaks to moder...   \n",
       "2      1  Trump’s Fight With Corker Jeopardizes His Legi...   \n",
       "3      1  Egypt's Cheiron wins tie-up with Pemex for Mex...   \n",
       "4      1  Jason Aldean opens 'SNL' with Vegas tribute Co...   \n",
       "\n",
       "                                        Cleaned_News  \n",
       "0  four way bob corker skewer donald trump imag c...  \n",
       "1  linklat 's war veteran comedi speak modern ame...  \n",
       "2  trump fight corker jeopard legisl agenda feud ...  \n",
       "3  egypt 's cheiron win tie-up pemex mexican onsh...  \n",
       "4  jason aldean open snl vega tribut countri sing...  "
      ]
     },
     "execution_count": 70,
     "metadata": {},
     "output_type": "execute_result"
    }
   ],
   "source": [
    "data.head()"
   ]
  },
  {
   "cell_type": "code",
   "execution_count": 71,
   "id": "cf037ba2",
   "metadata": {},
   "outputs": [],
   "source": [
    "X = data['Cleaned_News'].values\n",
    "y = data['Label'].values"
   ]
  },
  {
   "cell_type": "code",
   "execution_count": 72,
   "id": "4ab25d2c",
   "metadata": {},
   "outputs": [],
   "source": [
    "from sklearn.model_selection import train_test_split"
   ]
  },
  {
   "cell_type": "code",
   "execution_count": 73,
   "id": "e61dce71",
   "metadata": {},
   "outputs": [],
   "source": [
    "X_train, X_test, y_train, y_test = train_test_split(X, y, test_size=0.25)"
   ]
  },
  {
   "cell_type": "code",
   "execution_count": 74,
   "id": "01fcb6ae",
   "metadata": {},
   "outputs": [
    {
     "data": {
      "text/plain": [
       "(2991,)"
      ]
     },
     "execution_count": 74,
     "metadata": {},
     "output_type": "execute_result"
    }
   ],
   "source": [
    "X_train.shape"
   ]
  },
  {
   "cell_type": "code",
   "execution_count": 75,
   "id": "96d33543",
   "metadata": {},
   "outputs": [
    {
     "data": {
      "text/plain": [
       "(997,)"
      ]
     },
     "execution_count": 75,
     "metadata": {},
     "output_type": "execute_result"
    }
   ],
   "source": [
    "X_test.shape"
   ]
  },
  {
   "cell_type": "code",
   "execution_count": null,
   "id": "65bf2c7f",
   "metadata": {},
   "outputs": [],
   "source": []
  },
  {
   "cell_type": "markdown",
   "id": "00cab8d4",
   "metadata": {},
   "source": [
    "# Vectorization"
   ]
  },
  {
   "cell_type": "code",
   "execution_count": 76,
   "id": "7ab70cfa",
   "metadata": {},
   "outputs": [],
   "source": [
    "# Bag of word\n",
    "from sklearn.feature_extraction.text import CountVectorizer"
   ]
  },
  {
   "cell_type": "code",
   "execution_count": 77,
   "id": "0d177c6d",
   "metadata": {},
   "outputs": [],
   "source": [
    "cv = CountVectorizer(max_features=10000)"
   ]
  },
  {
   "cell_type": "code",
   "execution_count": 78,
   "id": "45794480",
   "metadata": {},
   "outputs": [],
   "source": [
    "X_train = cv.fit_transform(X_train).toarray()"
   ]
  },
  {
   "cell_type": "code",
   "execution_count": 79,
   "id": "f98c1af6",
   "metadata": {},
   "outputs": [
    {
     "data": {
      "text/plain": [
       "(2991, 10000)"
      ]
     },
     "execution_count": 79,
     "metadata": {},
     "output_type": "execute_result"
    }
   ],
   "source": [
    "X_train.shape"
   ]
  },
  {
   "cell_type": "code",
   "execution_count": null,
   "id": "bc0d4605",
   "metadata": {},
   "outputs": [],
   "source": [
    "X_test.shape"
   ]
  },
  {
   "cell_type": "code",
   "execution_count": null,
   "id": "fb4a39c0",
   "metadata": {},
   "outputs": [],
   "source": [
    "X_test = cv.transform(X_test).toarray()"
   ]
  },
  {
   "cell_type": "code",
   "execution_count": null,
   "id": "8c525528",
   "metadata": {},
   "outputs": [],
   "source": []
  },
  {
   "cell_type": "markdown",
   "id": "2d3cd77f",
   "metadata": {},
   "source": [
    "# Model Training"
   ]
  },
  {
   "cell_type": "code",
   "execution_count": 93,
   "id": "2adc8c85",
   "metadata": {},
   "outputs": [],
   "source": [
    "from sklearn.naive_bayes import MultinomialNB\n",
    "from sklearn.linear_model import LogisticRegression"
   ]
  },
  {
   "cell_type": "code",
   "execution_count": 94,
   "id": "8744dcc1",
   "metadata": {},
   "outputs": [],
   "source": [
    "# model = MultinomialNB()\n",
    "model = LogisticRegression()"
   ]
  },
  {
   "cell_type": "code",
   "execution_count": 95,
   "id": "2e29b69b",
   "metadata": {},
   "outputs": [
    {
     "data": {
      "text/plain": [
       "LogisticRegression()"
      ]
     },
     "execution_count": 95,
     "metadata": {},
     "output_type": "execute_result"
    }
   ],
   "source": [
    "model.fit(X_train, y_train)"
   ]
  },
  {
   "cell_type": "code",
   "execution_count": null,
   "id": "4cacf326",
   "metadata": {},
   "outputs": [],
   "source": []
  },
  {
   "cell_type": "markdown",
   "id": "7e7a3855",
   "metadata": {},
   "source": [
    "# Prediction"
   ]
  },
  {
   "cell_type": "code",
   "execution_count": 96,
   "id": "14267235",
   "metadata": {},
   "outputs": [
    {
     "data": {
      "text/plain": [
       "(997, 10000)"
      ]
     },
     "execution_count": 96,
     "metadata": {},
     "output_type": "execute_result"
    }
   ],
   "source": [
    "X_test.shape"
   ]
  },
  {
   "cell_type": "code",
   "execution_count": 97,
   "id": "67f94db1",
   "metadata": {},
   "outputs": [],
   "source": [
    "y_pred = model.predict(X_test)"
   ]
  },
  {
   "cell_type": "code",
   "execution_count": 98,
   "id": "a2d62688",
   "metadata": {},
   "outputs": [
    {
     "data": {
      "text/plain": [
       "array([0, 0, 1, 0, 1])"
      ]
     },
     "execution_count": 98,
     "metadata": {},
     "output_type": "execute_result"
    }
   ],
   "source": [
    "y_pred[:5]"
   ]
  },
  {
   "cell_type": "code",
   "execution_count": 99,
   "id": "fca2d118",
   "metadata": {},
   "outputs": [
    {
     "data": {
      "text/plain": [
       "array([0, 0, 1, 0, 1])"
      ]
     },
     "execution_count": 99,
     "metadata": {},
     "output_type": "execute_result"
    }
   ],
   "source": [
    "y_test[:5]"
   ]
  },
  {
   "cell_type": "markdown",
   "id": "01b8ed8c",
   "metadata": {},
   "source": [
    "# Evaluation"
   ]
  },
  {
   "cell_type": "code",
   "execution_count": 100,
   "id": "91759517",
   "metadata": {},
   "outputs": [
    {
     "data": {
      "text/plain": [
       "979"
      ]
     },
     "execution_count": 100,
     "metadata": {},
     "output_type": "execute_result"
    }
   ],
   "source": [
    "np.sum(y_pred == y_test)"
   ]
  },
  {
   "cell_type": "code",
   "execution_count": 101,
   "id": "f39e36a7",
   "metadata": {},
   "outputs": [
    {
     "data": {
      "text/plain": [
       "0.9819458375125376"
      ]
     },
     "execution_count": 101,
     "metadata": {},
     "output_type": "execute_result"
    }
   ],
   "source": [
    "979/997"
   ]
  },
  {
   "cell_type": "code",
   "execution_count": 102,
   "id": "5bfc6043",
   "metadata": {},
   "outputs": [
    {
     "data": {
      "text/plain": [
       "0.9819458375125376"
      ]
     },
     "execution_count": 102,
     "metadata": {},
     "output_type": "execute_result"
    }
   ],
   "source": [
    "model.score(X_test, y_test)"
   ]
  },
  {
   "cell_type": "code",
   "execution_count": null,
   "id": "14cec935",
   "metadata": {},
   "outputs": [],
   "source": []
  },
  {
   "cell_type": "code",
   "execution_count": null,
   "id": "4d9c6e1f",
   "metadata": {},
   "outputs": [],
   "source": []
  }
 ],
 "metadata": {
  "kernelspec": {
   "display_name": "Python 3",
   "language": "python",
   "name": "python3"
  },
  "language_info": {
   "codemirror_mode": {
    "name": "ipython",
    "version": 3
   },
   "file_extension": ".py",
   "mimetype": "text/x-python",
   "name": "python",
   "nbconvert_exporter": "python",
   "pygments_lexer": "ipython3",
   "version": "3.8.8"
  }
 },
 "nbformat": 4,
 "nbformat_minor": 5
}
